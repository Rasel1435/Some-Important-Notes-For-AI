{
 "cells": [
  {
   "cell_type": "markdown",
   "id": "e886fd36-3d2b-4dba-a953-14e691f183f6",
   "metadata": {},
   "source": [
    "# Metrics\n",
    "Our List Of Matrics we will See :\n",
    "\n",
    "- Accuracy\n",
    "- R-squared (R2)\n",
    "- Precision\n",
    "- F1 Score\n",
    "- Specificity\n",
    "- Recall (Sensitivity)\n",
    "- Confusion Matrix\n",
    "- Mean Absolute Error (MAE)\n",
    "- Mean Squared Error (MSE)\n",
    "- Root Mean Squared Error (RMSE)"
   ]
  },
  {
   "cell_type": "markdown",
   "id": "a0551b04",
   "metadata": {},
   "source": []
  }
 ],
 "metadata": {
  "kernelspec": {
   "display_name": "Python 3 (ipykernel)",
   "language": "python",
   "name": "python3"
  },
  "language_info": {
   "codemirror_mode": {
    "name": "ipython",
    "version": 3
   },
   "file_extension": ".py",
   "mimetype": "text/x-python",
   "name": "python",
   "nbconvert_exporter": "python",
   "pygments_lexer": "ipython3",
   "version": "3.12.0"
  }
 },
 "nbformat": 4,
 "nbformat_minor": 5
}
