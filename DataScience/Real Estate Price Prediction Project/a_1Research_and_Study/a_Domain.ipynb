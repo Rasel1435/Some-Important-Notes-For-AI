{
 "cells": [
  {
   "cell_type": "markdown",
   "id": "527015d6-991c-4b13-9c62-a777c578c97d",
   "metadata": {},
   "source": [
    "# Regression Project\n",
    "- Bangalore property price prediction\n",
    "- we will use ML and Data Science as domain\n"
   ]
  },
  {
   "cell_type": "markdown",
   "id": "8df763f7",
   "metadata": {},
   "source": []
  }
 ],
 "metadata": {
  "kernelspec": {
   "display_name": "Python 3 (ipykernel)",
   "language": "python",
   "name": "python3"
  },
  "language_info": {
   "codemirror_mode": {
    "name": "ipython",
    "version": 3
   },
   "file_extension": ".py",
   "mimetype": "text/x-python",
   "name": "python",
   "nbconvert_exporter": "python",
   "pygments_lexer": "ipython3",
   "version": "3.10.6"
  }
 },
 "nbformat": 4,
 "nbformat_minor": 5
}
